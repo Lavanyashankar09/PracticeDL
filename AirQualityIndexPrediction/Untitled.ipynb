{
 "cells": [
  {
   "cell_type": "code",
   "execution_count": 2,
   "id": "59aaeb39",
   "metadata": {},
   "outputs": [],
   "source": [
    "import pandas as pd\n"
   ]
  },
  {
   "cell_type": "code",
   "execution_count": 3,
   "id": "dea6408a",
   "metadata": {},
   "outputs": [],
   "source": [
    "df = pd.read_csv(\"Real_combine.csv\")"
   ]
  },
  {
   "cell_type": "code",
   "execution_count": 7,
   "id": "14cd5e38",
   "metadata": {},
   "outputs": [
    {
     "data": {
      "text/html": [
       "<div>\n",
       "<style scoped>\n",
       "    .dataframe tbody tr th:only-of-type {\n",
       "        vertical-align: middle;\n",
       "    }\n",
       "\n",
       "    .dataframe tbody tr th {\n",
       "        vertical-align: top;\n",
       "    }\n",
       "\n",
       "    .dataframe thead th {\n",
       "        text-align: right;\n",
       "    }\n",
       "</style>\n",
       "<table border=\"1\" class=\"dataframe\">\n",
       "  <thead>\n",
       "    <tr style=\"text-align: right;\">\n",
       "      <th></th>\n",
       "      <th>T</th>\n",
       "      <th>TM</th>\n",
       "      <th>Tm</th>\n",
       "      <th>SLP</th>\n",
       "      <th>H</th>\n",
       "      <th>VV</th>\n",
       "      <th>V</th>\n",
       "      <th>VM</th>\n",
       "      <th>PM 2.5</th>\n",
       "    </tr>\n",
       "  </thead>\n",
       "  <tbody>\n",
       "    <tr>\n",
       "      <th>0</th>\n",
       "      <td>7.4</td>\n",
       "      <td>9.8</td>\n",
       "      <td>4.8</td>\n",
       "      <td>1017.6</td>\n",
       "      <td>93.0</td>\n",
       "      <td>0.5</td>\n",
       "      <td>4.3</td>\n",
       "      <td>9.4</td>\n",
       "      <td>219.720833</td>\n",
       "    </tr>\n",
       "    <tr>\n",
       "      <th>1</th>\n",
       "      <td>7.8</td>\n",
       "      <td>12.7</td>\n",
       "      <td>4.4</td>\n",
       "      <td>1018.5</td>\n",
       "      <td>87.0</td>\n",
       "      <td>0.6</td>\n",
       "      <td>4.4</td>\n",
       "      <td>11.1</td>\n",
       "      <td>182.187500</td>\n",
       "    </tr>\n",
       "    <tr>\n",
       "      <th>2</th>\n",
       "      <td>6.7</td>\n",
       "      <td>13.4</td>\n",
       "      <td>2.4</td>\n",
       "      <td>1019.4</td>\n",
       "      <td>82.0</td>\n",
       "      <td>0.6</td>\n",
       "      <td>4.8</td>\n",
       "      <td>11.1</td>\n",
       "      <td>154.037500</td>\n",
       "    </tr>\n",
       "    <tr>\n",
       "      <th>3</th>\n",
       "      <td>8.6</td>\n",
       "      <td>15.5</td>\n",
       "      <td>3.3</td>\n",
       "      <td>1018.7</td>\n",
       "      <td>72.0</td>\n",
       "      <td>0.8</td>\n",
       "      <td>8.1</td>\n",
       "      <td>20.6</td>\n",
       "      <td>223.208333</td>\n",
       "    </tr>\n",
       "    <tr>\n",
       "      <th>4</th>\n",
       "      <td>12.4</td>\n",
       "      <td>20.9</td>\n",
       "      <td>4.4</td>\n",
       "      <td>1017.3</td>\n",
       "      <td>61.0</td>\n",
       "      <td>1.3</td>\n",
       "      <td>8.7</td>\n",
       "      <td>22.2</td>\n",
       "      <td>200.645833</td>\n",
       "    </tr>\n",
       "  </tbody>\n",
       "</table>\n",
       "</div>"
      ],
      "text/plain": [
       "      T    TM   Tm     SLP     H   VV    V    VM      PM 2.5\n",
       "0   7.4   9.8  4.8  1017.6  93.0  0.5  4.3   9.4  219.720833\n",
       "1   7.8  12.7  4.4  1018.5  87.0  0.6  4.4  11.1  182.187500\n",
       "2   6.7  13.4  2.4  1019.4  82.0  0.6  4.8  11.1  154.037500\n",
       "3   8.6  15.5  3.3  1018.7  72.0  0.8  8.1  20.6  223.208333\n",
       "4  12.4  20.9  4.4  1017.3  61.0  1.3  8.7  22.2  200.645833"
      ]
     },
     "execution_count": 7,
     "metadata": {},
     "output_type": "execute_result"
    }
   ],
   "source": [
    "#X is first 8\n",
    "#Y is last one\n",
    "df.head()"
   ]
  },
  {
   "cell_type": "code",
   "execution_count": 8,
   "id": "116feee3",
   "metadata": {},
   "outputs": [
    {
     "data": {
      "text/plain": [
       "T         float64\n",
       "TM        float64\n",
       "Tm        float64\n",
       "SLP       float64\n",
       "H         float64\n",
       "VV        float64\n",
       "V         float64\n",
       "VM        float64\n",
       "PM 2.5    float64\n",
       "dtype: object"
      ]
     },
     "execution_count": 8,
     "metadata": {},
     "output_type": "execute_result"
    }
   ],
   "source": [
    "df.dtypes"
   ]
  },
  {
   "cell_type": "code",
   "execution_count": 28,
   "id": "05605bcb",
   "metadata": {},
   "outputs": [
    {
     "data": {
      "text/plain": [
       "(1093, 9)"
      ]
     },
     "execution_count": 28,
     "metadata": {},
     "output_type": "execute_result"
    }
   ],
   "source": [
    "df.shape"
   ]
  },
  {
   "cell_type": "code",
   "execution_count": 29,
   "id": "b02e6c1e",
   "metadata": {},
   "outputs": [
    {
     "data": {
      "text/plain": [
       "Index(['T', 'TM', 'Tm', 'SLP', 'H', 'VV', 'V', 'VM', 'PM 2.5'], dtype='object')"
      ]
     },
     "execution_count": 29,
     "metadata": {},
     "output_type": "execute_result"
    }
   ],
   "source": [
    "df.columns"
   ]
  },
  {
   "cell_type": "code",
   "execution_count": 30,
   "id": "ec651239",
   "metadata": {},
   "outputs": [],
   "source": [
    "X = df.iloc[:,:8]\n",
    "y = df.iloc[:,8]"
   ]
  },
  {
   "cell_type": "code",
   "execution_count": 31,
   "id": "f841657c",
   "metadata": {},
   "outputs": [
    {
     "name": "stdout",
     "output_type": "stream",
     "text": [
      "         T    TM    Tm     SLP     H   VV     V    VM\n",
      "0      7.4   9.8   4.8  1017.6  93.0  0.5   4.3   9.4\n",
      "1      7.8  12.7   4.4  1018.5  87.0  0.6   4.4  11.1\n",
      "2      6.7  13.4   2.4  1019.4  82.0  0.6   4.8  11.1\n",
      "3      8.6  15.5   3.3  1018.7  72.0  0.8   8.1  20.6\n",
      "4     12.4  20.9   4.4  1017.3  61.0  1.3   8.7  22.2\n",
      "...    ...   ...   ...     ...   ...  ...   ...   ...\n",
      "1088  18.1  24.0  11.2  1015.4  56.0  1.8  15.9  25.9\n",
      "1089  17.8  25.0  10.7  1015.8  54.0  2.3   9.4  22.2\n",
      "1090  13.9  24.5  11.4  1015.0  95.0  0.6   8.7  14.8\n",
      "1091  16.3  23.0   9.8  1016.9  78.0  1.1   7.4  16.5\n",
      "1092  16.3  23.4   9.0  1017.3  68.0  1.3   7.8  18.3\n",
      "\n",
      "[1093 rows x 8 columns]\n"
     ]
    }
   ],
   "source": [
    "print(X)"
   ]
  },
  {
   "cell_type": "code",
   "execution_count": 32,
   "id": "90518981",
   "metadata": {},
   "outputs": [
    {
     "name": "stdout",
     "output_type": "stream",
     "text": [
      "0       219.720833\n",
      "1       182.187500\n",
      "2       154.037500\n",
      "3       223.208333\n",
      "4       200.645833\n",
      "           ...    \n",
      "1088    288.416667\n",
      "1089    256.833333\n",
      "1090    169.000000\n",
      "1091    186.041667\n",
      "1092    185.583333\n",
      "Name: PM 2.5, Length: 1093, dtype: float64\n"
     ]
    }
   ],
   "source": [
    "print(y)"
   ]
  },
  {
   "cell_type": "code",
   "execution_count": 42,
   "id": "c89064ff",
   "metadata": {},
   "outputs": [],
   "source": [
    "\n",
    "from tensorflow import keras\n",
    "from tensorflow.keras import layers\n",
    "from keras_tuner import RandomSearch #for selecting hyperparameters"
   ]
  },
  {
   "cell_type": "code",
   "execution_count": 43,
   "id": "3cb2828b",
   "metadata": {},
   "outputs": [],
   "source": [
    "from sklearn.preprocessing import StandardScaler\n",
    "sc = StandardScaler()"
   ]
  },
  {
   "cell_type": "code",
   "execution_count": 44,
   "id": "8371b6f4",
   "metadata": {},
   "outputs": [
    {
     "ename": "NameError",
     "evalue": "name 'X_train' is not defined",
     "output_type": "error",
     "traceback": [
      "\u001b[0;31m---------------------------------------------------------------------------\u001b[0m",
      "\u001b[0;31mNameError\u001b[0m                                 Traceback (most recent call last)",
      "Cell \u001b[0;32mIn[44], line 1\u001b[0m\n\u001b[0;32m----> 1\u001b[0m X_train \u001b[38;5;241m=\u001b[39m sc\u001b[38;5;241m.\u001b[39mfit_transform(X_train)\n\u001b[1;32m      2\u001b[0m X_test \u001b[38;5;241m=\u001b[39m sc\u001b[38;5;241m.\u001b[39mtransform(X_test)\n",
      "\u001b[0;31mNameError\u001b[0m: name 'X_train' is not defined"
     ]
    }
   ],
   "source": [
    "X_train = sc.fit_transform(X_train)\n",
    "X_test = sc.transform(X_test)"
   ]
  },
  {
   "cell_type": "code",
   "execution_count": null,
   "id": "95ff5778",
   "metadata": {},
   "outputs": [],
   "source": []
  },
  {
   "cell_type": "code",
   "execution_count": null,
   "id": "bc7b5b57",
   "metadata": {},
   "outputs": [],
   "source": []
  }
 ],
 "metadata": {
  "kernelspec": {
   "display_name": "Python 3 (ipykernel)",
   "language": "python",
   "name": "python3"
  },
  "language_info": {
   "codemirror_mode": {
    "name": "ipython",
    "version": 3
   },
   "file_extension": ".py",
   "mimetype": "text/x-python",
   "name": "python",
   "nbconvert_exporter": "python",
   "pygments_lexer": "ipython3",
   "version": "3.11.5"
  }
 },
 "nbformat": 4,
 "nbformat_minor": 5
}
